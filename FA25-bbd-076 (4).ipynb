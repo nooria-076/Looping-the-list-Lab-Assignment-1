{
  "metadata": {
    "kernelspec": {
      "name": "xpython",
      "display_name": "Python 3.13 (XPython)",
      "language": "python"
    },
    "language_info": {
      "file_extension": ".py",
      "mimetype": "text/x-python",
      "name": "python",
      "version": "3.13.1"
    }
  },
  "nbformat_minor": 5,
  "nbformat": 4,
  "cells": [
    {
      "id": "dd61b88d-601b-4e1c-b220-9c5c5d4e81a4",
      "cell_type": "markdown",
      "source": "# NOORIA SAJJAD\n# FA25-BBD-076",
      "metadata": {}
    },
    {
      "id": "7e7ef2bb-f599-4bc8-9803-20bb81f08782",
      "cell_type": "markdown",
      "source": "## QUESTION 1",
      "metadata": {}
    },
    {
      "id": "e157c519-7557-4d1a-bc80-aa2b69adcd64",
      "cell_type": "code",
      "source": "for value in range(2,21,2):\n    print(value)",
      "metadata": {
        "trusted": true
      },
      "outputs": [
        {
          "name": "stdout",
          "output_type": "stream",
          "text": "2\n4\n6\n8\n10\n12\n14\n16\n18\n20\n"
        }
      ],
      "execution_count": 40
    },
    {
      "id": "f01cfec7-d8c7-4129-8cca-c400ec0161a7",
      "cell_type": "markdown",
      "source": "## QUESTION 2",
      "metadata": {}
    },
    {
      "id": "2fffbf43-ba1b-41c6-9afc-596fb8c88399",
      "cell_type": "code",
      "source": "names=['ishba','minahil','ayesha','amna']\nfor name in names:\n    print(name.upper())",
      "metadata": {
        "trusted": true
      },
      "outputs": [
        {
          "name": "stdout",
          "output_type": "stream",
          "text": "ISHBA\nMINAHIL\nAYESHA\nAMNA\n"
        }
      ],
      "execution_count": 3
    },
    {
      "id": "950a5b0f-2c18-40d0-9598-9f31af48a6a3",
      "cell_type": "markdown",
      "source": "## QUESTION 3",
      "metadata": {}
    },
    {
      "id": "47e0805c-9265-491d-bda7-724a4c9e6f08",
      "cell_type": "code",
      "source": "for i in range(10,0,-1):\n    print(i)",
      "metadata": {
        "trusted": true
      },
      "outputs": [
        {
          "name": "stdout",
          "output_type": "stream",
          "text": "10\n9\n8\n7\n6\n5\n4\n3\n2\n1\n"
        }
      ],
      "execution_count": 18
    },
    {
      "id": "67539ed1-2ea0-4fbf-8efc-921241377cb1",
      "cell_type": "markdown",
      "source": "## QUESTION 4",
      "metadata": {}
    },
    {
      "id": "2e449e5e-7468-4e24-b275-049fc5fcb95d",
      "cell_type": "code",
      "source": "numbers=[6,10,15,20,24,25,27]\nfor num in numbers:\n    if num%3==0:\n        print(num)",
      "metadata": {
        "trusted": true
      },
      "outputs": [
        {
          "name": "stdout",
          "output_type": "stream",
          "text": "6\n15\n24\n27\n"
        }
      ],
      "execution_count": 39
    },
    {
      "id": "273b2ce0-a390-4ed8-aee5-9de96ab4b4e0",
      "cell_type": "markdown",
      "source": "## QUESTION 5",
      "metadata": {}
    },
    {
      "id": "52675764-ca88-4bd2-94ff-a9d1b6950388",
      "cell_type": "code",
      "source": "for value in range(1,11):\n    squared=value**2\n    print(squared)",
      "metadata": {
        "trusted": true
      },
      "outputs": [
        {
          "name": "stdout",
          "output_type": "stream",
          "text": "1\n4\n9\n16\n25\n36\n49\n64\n81\n100\n"
        }
      ],
      "execution_count": 36
    },
    {
      "id": "54d35929-d546-413d-b9bd-a0688ce7446e",
      "cell_type": "markdown",
      "source": "## QUESTION 6",
      "metadata": {}
    },
    {
      "id": "48785add-7bb3-43e9-85f7-290230318c08",
      "cell_type": "code",
      "source": "Celsius_temp=[20,40,50,80,85]\nfor c in Celsius_temp:\n    fahrenheit=(c*9/5)+32\n    print(fahrenheit)",
      "metadata": {
        "trusted": true
      },
      "outputs": [
        {
          "name": "stdout",
          "output_type": "stream",
          "text": "68.0\n104.0\n122.0\n176.0\n185.0\n"
        }
      ],
      "execution_count": 7
    },
    {
      "id": "49f4999f-0885-4e8d-8b87-53db320e8b1f",
      "cell_type": "markdown",
      "source": "## QUESTION 7",
      "metadata": {}
    },
    {
      "id": "58804a69-efcf-41e1-8536-5ae8e819637c",
      "cell_type": "code",
      "source": "for i in range(1,11):\n    print(f'5x{i}={5*i}')",
      "metadata": {
        "trusted": true
      },
      "outputs": [
        {
          "name": "stdout",
          "output_type": "stream",
          "text": "5x1=5\n5x2=10\n5x3=15\n5x4=20\n5x5=25\n5x6=30\n5x7=35\n5x8=40\n5x9=45\n5x10=50\n"
        }
      ],
      "execution_count": 5
    },
    {
      "id": "c349f1f4-ecb2-4a68-a556-3c0cdcbada89",
      "cell_type": "markdown",
      "source": "## QUESTION 8",
      "metadata": {}
    },
    {
      "id": "1374ed4d-da28-4bca-9f04-49b92b6b9c57",
      "cell_type": "code",
      "source": "number=[2,4,6,8,10]\nsum=0\nfor num in number:\n    sum+= num\nprint(sum)",
      "metadata": {
        "trusted": true
      },
      "outputs": [
        {
          "name": "stdout",
          "output_type": "stream",
          "text": "30\n"
        }
      ],
      "execution_count": 26
    },
    {
      "id": "84080e09-97af-4118-b52e-df8efac5be19",
      "cell_type": "markdown",
      "source": "## QUESTION 9",
      "metadata": {}
    },
    {
      "id": "121e030e-e871-4504-9d6a-9614af63a236",
      "cell_type": "code",
      "source": "fruits='cherry'\nfor fruit in fruits:\n    print(fruit)\n",
      "metadata": {
        "trusted": true
      },
      "outputs": [
        {
          "name": "stdout",
          "output_type": "stream",
          "text": "c\nh\ne\nr\nr\ny\n"
        }
      ],
      "execution_count": 28
    },
    {
      "id": "9e0ddda1-d62e-4ab5-85ce-23df81874a10",
      "cell_type": "markdown",
      "source": "## QUESTION 10",
      "metadata": {}
    },
    {
      "id": "f923938c-9649-4dd7-bf18-e88c20a0bfeb",
      "cell_type": "code",
      "source": "Games=['GTA','Shadow','Ghost','Transformers']\nfor game in Games:\n    if len(game)>5:\n        print(game)\n",
      "metadata": {
        "trusted": true
      },
      "outputs": [
        {
          "name": "stdout",
          "output_type": "stream",
          "text": "Shadow\nTransformers\n"
        }
      ],
      "execution_count": 34
    },
    {
      "id": "4e32b861-7879-4365-974d-b9361600ef5d",
      "cell_type": "code",
      "source": "",
      "metadata": {
        "trusted": true
      },
      "outputs": [],
      "execution_count": null
    }
  ]
}